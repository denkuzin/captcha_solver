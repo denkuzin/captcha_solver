{
 "cells": [
  {
   "cell_type": "code",
   "execution_count": 6,
   "metadata": {},
   "outputs": [],
   "source": [
    "from IPython.display import Image as ImageNotebook\n",
    "from PIL import Image\n",
    "import numpy as np\n",
    "from data.train_generator import claptcha\n",
    "import random\n",
    "import io\n",
    "import os\n",
    "from os.path import join\n",
    "import cv2\n",
    "from functools import reduce\n",
    "import matplotlib.pyplot as plt"
   ]
  },
  {
   "cell_type": "markdown",
   "metadata": {},
   "source": [
    "domain to break  is https://restaurantpass.gift-cards.ru/balance"
   ]
  },
  {
   "cell_type": "markdown",
   "metadata": {},
   "source": [
    "#### Parameters Configuration"
   ]
  },
  {
   "cell_type": "code",
   "execution_count": 13,
   "metadata": {},
   "outputs": [],
   "source": [
    "NUMBER_CHARS_PER_IMAGE = 5\n",
    "PATH_TEST_DATA = \"data/test\"\n",
    "\n",
    "target_image_path = 'data/test/2bbee.png'\n",
    "target_image = Image.open(target_image_path) \n",
    "target_width, target_height = target_image.size\n",
    "\n",
    "possible_characters = 'abcdefghijklmnopqrstuvwxyz' + '0123456789'\n",
    "char2ind = dict((ch,i) for i,ch in enumerate(possible_characters))\n",
    "ind2char = dict((i,ch) for i,ch in enumerate(possible_characters))\n",
    "NUM_CLASSES = num_classes = len(possible_characters)\n",
    "\n",
    "font_path = \"data/train_generator/fonts/DINNextRoundedLTPro-Regular.otf\""
   ]
  },
  {
   "cell_type": "code",
   "execution_count": 14,
   "metadata": {},
   "outputs": [
    {
     "data": {
      "text/plain": [
       "(115, 45)"
      ]
     },
     "execution_count": 14,
     "metadata": {},
     "output_type": "execute_result"
    }
   ],
   "source": [
    "target_image.size"
   ]
  },
  {
   "cell_type": "code",
   "execution_count": 15,
   "metadata": {},
   "outputs": [],
   "source": [
    "def randomString(possible_characters, lenght=5):\n",
    "    rndLetters = (random.choice(possible_characters) for _ in range(lenght))\n",
    "    return \"\".join(rndLetters)"
   ]
  },
  {
   "cell_type": "code",
   "execution_count": 16,
   "metadata": {},
   "outputs": [],
   "source": [
    "def generate_example(possible_characters,lenght=5):\n",
    "    string = randomString(possible_characters,lenght=lenght)\n",
    "    c = claptcha.Claptcha(source=string, font=font_path, \n",
    "                      margin=(10,10), noise=0, \n",
    "                      size=(target_width, target_height))\n",
    "    _, bytes = c.bytes\n",
    "    bytes = bytes.read()\n",
    "    image = Image.open(io.BytesIO(bytes))\n",
    "    array = np.array(image)\n",
    "    return array, string, bytes"
   ]
  },
  {
   "cell_type": "code",
   "execution_count": 162,
   "metadata": {},
   "outputs": [
    {
     "name": "stdout",
     "output_type": "stream",
     "text": [
      "wz84v\n"
     ]
    },
    {
     "data": {
      "image/png": "[encoded data removed]",
      "text/plain": [
       "<IPython.core.display.Image object>"
      ]
     },
     "execution_count": 162,
     "metadata": {},
     "output_type": "execute_result"
    }
   ],
   "source": [
    "array, string, byte = generate_example(possible_characters, lenght=5)\n",
    "print (string)\n",
    "ImageNotebook(data=byte)"
   ]
  },
  {
   "cell_type": "code",
   "execution_count": null,
   "metadata": {},
   "outputs": [],
   "source": []
  },
  {
   "cell_type": "code",
   "execution_count": 28,
   "metadata": {},
   "outputs": [],
   "source": [
    "def get_locations(image):\n",
    "    \"\"\"\n",
    "    get locations in format (x, y, w, h) of characters on image\n",
    "    \"\"\"\n",
    "    \n",
    "    # Convert image to grayscale and find counters\n",
    "    gray = cv2.cvtColor(image, cv2.COLOR_BGR2GRAY)\n",
    "    \n",
    "    # threshold the image (convert it to pure black and white)\n",
    "    thresh = cv2.threshold(gray, 0, 255, cv2.THRESH_BINARY_INV | cv2.THRESH_OTSU)[1]\n",
    "    \n",
    "    # find the contours (continuous blobs of pixels) the image\n",
    "    _, contours, hierarchy = cv2.findContours(thresh, cv2.RETR_EXTERNAL, cv2.CHAIN_APPROX_SIMPLE)\n",
    "    \n",
    "    locations = []\n",
    "    for contour in contours:\n",
    "        (x, y, w, h) = cv2.boundingRect(contour)\n",
    "        locations.append((x, y, w, h))\n",
    "        \n",
    "    # Sort the detected letter images based on the x coordinate\n",
    "    locations = sorted(locations, key=lambda x: x[0])\n",
    "    return locations\n",
    "\n",
    "\n",
    "def clipper(image, locations):\n",
    "    \"\"\"\n",
    "    clip image based on locations and do some preprocessing\n",
    "    \"\"\"\n",
    "    \n",
    "    # filter I: overlapping letters\n",
    "    # split letters if they are overlapping \n",
    "    locations_temp = []\n",
    "    for x, y, w, h in locations:\n",
    "        # Compare the width and height of the contour to detect letters that\n",
    "        # are conjoined into one chunk\n",
    "        if w / h > 1.75:\n",
    "            # This contour is too wide to be a single letter!\n",
    "            # Split it in half into two letter regions!\n",
    "            half_width = int(w / 2)\n",
    "            locations_temp.append((x, y, half_width, h))\n",
    "            locations_temp.append((x + half_width, y, half_width, h))\n",
    "        else:\n",
    "            locations_temp.append((x, y, w, h))\n",
    "    locations = locations_temp\n",
    "    \n",
    "    # filter II: 'i' case:\n",
    "    # usually, character 'i' is presented as 2 small images\n",
    "    # in this case we should concat 2 images at vertical line\n",
    "    # 1. detect problem: if x1 almost equals x2\n",
    "    i = 0\n",
    "    while i < len(locations) - 1:\n",
    "        x1, y1, w1, h1 = locations[i]\n",
    "        x2, y2, w2, h2 = locations[i+1]\n",
    "        if abs(x2 - x1) <= 5:\n",
    "            # concat 2 elements\n",
    "            x = min(x1, x2)\n",
    "            y = min(y1, y2)\n",
    "            w = max(x1 + w1, x2 + w2) - x\n",
    "            h = max(y1 + h1, y2 + h2) - y\n",
    "            locations[i] = (x,y,w,h)\n",
    "            del locations[i+1]\n",
    "        else:\n",
    "            i += 1\n",
    "           \n",
    "    # Generate images corresponded to each label in numpy format\n",
    "    small_images = []\n",
    "    n = 2 # number of extra pixels\n",
    "    for x, y, w, h in locations:\n",
    "        image_char = image[y - n:y + h + n, x - n:x + w + n]\n",
    "        small_images.append(image_char)\n",
    "    return small_images\n",
    "\n",
    "\n",
    "def resize_one(image, shape=(40,40,3)):\n",
    "    \"resize with stretching a figure\"\n",
    "    height, width = shape[:2]\n",
    "    resized = cv2.resize(image, (width, height), interpolation = cv2.INTER_NEAREST)\n",
    "    return resized\n",
    "\n",
    "\n",
    "def resize_one(image, shape=(32,32,3)):\n",
    "    \"\"\" resize without stretching a figure and \n",
    "    place the image to the upper-right corner of figure of shape `shape` \"\"\"\n",
    "    h_target, w_target = shape[:2]\n",
    "    h, w = image.shape[:2]\n",
    "    k = min(h_target/h, w_target/w)\n",
    "    h_temp, w_temp = int(h * k), int(w * k)\n",
    "    resized_temp = cv2.resize(image, (w_temp, h_temp), interpolation = cv2.INTER_NEAREST)\n",
    "    empty = np.full(shape=shape, fill_value=255, dtype=np.uint8)\n",
    "    empty[:h_temp,:w_temp,:] = resized_temp[:h_target,:w_target,:]\n",
    "    return empty\n",
    "\n",
    "\n",
    "def resize_set(small_images, shape=(40,40,3)):\n",
    "    \"\"\" 1. place the image to the upper-right corner of figure of shape `shape`  \"\"\"\n",
    "    \"\"\" 2. stack images into 1 numpy array \"\"\"\n",
    "    images = []\n",
    "    for small_image in small_images:\n",
    "        temp = resize_one(small_image, shape=shape)\n",
    "        images.append(temp)\n",
    "    return images\n",
    "\n",
    "\n",
    "def OHE(items, char2ind):\n",
    "    shape = (len(items),len(char2ind))\n",
    "    arr = np.zeros(shape=shape, dtype=int)\n",
    "    for i, el in enumerate(items):\n",
    "        ind = char2ind[el]\n",
    "        arr[i,ind] = 1\n",
    "    return arr\n",
    "\n",
    "\n",
    "def black_and_white_list(images):\n",
    "    black_white = []\n",
    "    for image in images:\n",
    "        # gray scale image:\n",
    "        gray = cv2.cvtColor(image, cv2.COLOR_BGR2GRAY)\n",
    "        # convert image to binary:\n",
    "        thresh, image_bw = cv2.threshold(gray, 0, 255, cv2.THRESH_BINARY_INV | cv2.THRESH_OTSU)\n",
    "        black_white.append(image_bw)\n",
    "    return black_white\n",
    "\n",
    "\n",
    "def process_picture(image_array):\n",
    "    locations = get_locations(image_array)\n",
    "    small_images = clipper(image_array, locations)\n",
    "    x = resize_set(small_images, shape=(32,32,3))\n",
    "    x = black_and_white_list(x)     # get 1 channel images (n,n,3) -->  (n,n)\n",
    "    x = [np.expand_dims(el, axis = 0) for el in x]    # (n,n) --> (1,n,n)\n",
    "    x = np.stack(x)\n",
    "    x = x/255.   # rescale to [0,1]\n",
    "    return x.astype(np.float32)"
   ]
  },
  {
   "cell_type": "markdown",
   "metadata": {},
   "source": [
    "**analysis of each function**"
   ]
  },
  {
   "cell_type": "code",
   "execution_count": 19,
   "metadata": {},
   "outputs": [],
   "source": [
    "array, string, byte = generate_example(possible_characters, \n",
    "                                       lenght=NUMBER_CHARS_PER_IMAGE)"
   ]
  },
  {
   "cell_type": "code",
   "execution_count": 21,
   "metadata": {},
   "outputs": [
    {
     "name": "stdout",
     "output_type": "stream",
     "text": [
      "original: ngme6\n"
     ]
    },
    {
     "data": {
      "image/png": "[encoded data removed]",
      "text/plain": [
       "<matplotlib.figure.Figure at 0x7f1f21ba0710>"
      ]
     },
     "metadata": {},
     "output_type": "display_data"
    }
   ],
   "source": [
    "print (\"original: {}\".format(string))\n",
    "plt.imshow(array); plt.show();"
   ]
  },
  {
   "cell_type": "code",
   "execution_count": 22,
   "metadata": {},
   "outputs": [
    {
     "name": "stdout",
     "output_type": "stream",
     "text": [
      "clipped\n"
     ]
    },
    {
     "data": {
      "image/png": "[encoded data removed]",
      "text/plain": [
       "<matplotlib.figure.Figure at 0x7f1f1b0cf898>"
      ]
     },
     "metadata": {},
     "output_type": "display_data"
    }
   ],
   "source": [
    "locations = get_locations(array)\n",
    "small_images = clipper(array, locations)\n",
    "print (\"clipped\")\n",
    "fig = plt.figure(figsize=(1.5,1.5))\n",
    "plt.imshow(small_images[0]); plt.show();"
   ]
  },
  {
   "cell_type": "code",
   "execution_count": 23,
   "metadata": {},
   "outputs": [
    {
     "name": "stdout",
     "output_type": "stream",
     "text": [
      "resized:\n"
     ]
    },
    {
     "data": {
      "image/png": "[encoded data removed]",
      "text/plain": [
       "<matplotlib.figure.Figure at 0x7f1f1b06d4e0>"
      ]
     },
     "metadata": {},
     "output_type": "display_data"
    }
   ],
   "source": [
    "shape=(32,32,3)\n",
    "height, width = shape[:2]\n",
    "resized = cv2.resize(small_images[0], (width, height), interpolation = cv2.INTER_NEAREST)\n",
    "resized = resize_one(small_images[0], shape=shape)\n",
    "\n",
    "print ('resized:')\n",
    "fig = plt.figure(figsize=(1.5,1.5))\n",
    "plt.imshow(np.squeeze(resized)); plt.show();"
   ]
  },
  {
   "cell_type": "code",
   "execution_count": null,
   "metadata": {},
   "outputs": [],
   "source": []
  },
  {
   "cell_type": "code",
   "execution_count": null,
   "metadata": {},
   "outputs": [],
   "source": []
  },
  {
   "cell_type": "code",
   "execution_count": 24,
   "metadata": {},
   "outputs": [
    {
     "name": "stdout",
     "output_type": "stream",
     "text": [
      "string = c8pzy\n",
      "\n",
      "Original:\n"
     ]
    },
    {
     "data": {
      "image/png": "[encoded data removed]",
      "text/plain": [
       "<matplotlib.figure.Figure at 0x7f1f21be15f8>"
      ]
     },
     "metadata": {},
     "output_type": "display_data"
    },
    {
     "name": "stdout",
     "output_type": "stream",
     "text": [
      "Clipped:\n"
     ]
    },
    {
     "data": {
      "image/png": "[encoded data removed]",
      "text/plain": [
       "<matplotlib.figure.Figure at 0x7f1f1af7f828>"
      ]
     },
     "metadata": {},
     "output_type": "display_data"
    },
    {
     "name": "stdout",
     "output_type": "stream",
     "text": [
      "Padded:\n"
     ]
    },
    {
     "data": {
      "image/png": "[encoded data removed]",
      "text/plain": [
       "<matplotlib.figure.Figure at 0x7f1f1b0d36d8>"
      ]
     },
     "metadata": {},
     "output_type": "display_data"
    }
   ],
   "source": [
    "array, string, byte = generate_example(possible_characters, \n",
    "                                       lenght=NUMBER_CHARS_PER_IMAGE)\n",
    "\n",
    "print (\"string = {}\\n\".format(string))\n",
    "image = array\n",
    "locations = get_locations(image)\n",
    "small_images = clipper(image, locations)\n",
    "small_images_resize = resize_set(small_images, shape=(32,32,3))\n",
    "small_images_resize = np.stack(small_images_resize)\n",
    "\n",
    "print (\"Original:\")\n",
    "plt.imshow(image); plt.show();\n",
    "\n",
    "print (\"Clipped:\")\n",
    "num = len(small_images)\n",
    "fig, ax = plt.subplots(nrows=1, ncols=num, figsize=(num,1))\n",
    "for i, el in enumerate(small_images):\n",
    "    ax[i].imshow(el)    \n",
    "plt.show()\n",
    "\n",
    "print (\"Padded:\")\n",
    "fig, ax = plt.subplots(nrows=1, ncols=5,figsize=(5,1))\n",
    "for i in range(5):\n",
    "    ax[i].imshow(small_images_resize[i])    \n",
    "plt.show()"
   ]
  },
  {
   "cell_type": "code",
   "execution_count": 29,
   "metadata": {},
   "outputs": [
    {
     "name": "stdout",
     "output_type": "stream",
     "text": [
      "number of test examples is 55\n",
      "number of test examples is 55\n",
      "string = xew6g\n",
      "\n",
      "Original:\n"
     ]
    },
    {
     "data": {
      "image/png": "[encoded data removed]",
      "text/plain": [
       "<matplotlib.figure.Figure at 0x7f1f1adb73c8>"
      ]
     },
     "metadata": {},
     "output_type": "display_data"
    },
    {
     "name": "stdout",
     "output_type": "stream",
     "text": [
      "Clipped:\n"
     ]
    },
    {
     "data": {
      "image/png": "[encoded data removed]",
      "text/plain": [
       "<matplotlib.figure.Figure at 0x7f1f1b04bc18>"
      ]
     },
     "metadata": {},
     "output_type": "display_data"
    },
    {
     "name": "stdout",
     "output_type": "stream",
     "text": [
      "Padded:\n"
     ]
    },
    {
     "data": {
      "image/png": "[encoded data removed]",
      "text/plain": [
       "<matplotlib.figure.Figure at 0x7f1f1acdf2b0>"
      ]
     },
     "metadata": {},
     "output_type": "display_data"
    }
   ],
   "source": [
    "array, string, byte = generate_example(possible_characters, \n",
    "                                       lenght=NUMBER_CHARS_PER_IMAGE)\n",
    "\n",
    "X_test, y_test = Test_Loader().upload_test_set(PATH_TEST_DATA)\n",
    "i = random.choice(list(range(len(X_test))))\n",
    "array = X_test[i]\n",
    "string = y_test[i]\n",
    "\n",
    "\n",
    "print (\"string = {}\\n\".format(string))\n",
    "image = array\n",
    "locations = get_locations(image)\n",
    "small_images = clipper(image, locations)\n",
    "small_images_resize = resize_set(small_images, shape=(32,32,3))\n",
    "small_images_resize = np.stack(small_images_resize)\n",
    "\n",
    "print (\"Original:\")\n",
    "plt.imshow(image); plt.show();\n",
    "\n",
    "print (\"Clipped:\")\n",
    "num = len(small_images)\n",
    "fig, ax = plt.subplots(nrows=1, ncols=num, figsize=(num,1))\n",
    "for i, el in enumerate(small_images):\n",
    "    ax[i].imshow(el)    \n",
    "plt.show()\n",
    "\n",
    "print (\"Padded:\")\n",
    "fig, ax = plt.subplots(nrows=1, ncols=5,figsize=(5,1))\n",
    "for i in range(5):\n",
    "    ax[i].imshow(small_images_resize[i])    \n",
    "plt.show()"
   ]
  },
  {
   "cell_type": "markdown",
   "metadata": {},
   "source": [
    "### create Dataloader"
   ]
  },
  {
   "cell_type": "code",
   "execution_count": 30,
   "metadata": {},
   "outputs": [],
   "source": [
    "import torch\n",
    "from torch.utils.data import Dataset, DataLoader\n",
    "\n",
    "class TrainLoader(Dataset):\n",
    "    def __init__(self):\n",
    "        pass\n",
    "\n",
    "    @staticmethod\n",
    "    def generate_train_example():\n",
    "        image_array, string, _ = generate_example(possible_characters, \n",
    "                        lenght=NUMBER_CHARS_PER_IMAGE)\n",
    "        x = process_picture(image_array)\n",
    "        y = OHE(string, char2ind)\n",
    "        return x[0], y[0]\n",
    "    \n",
    "    def __getitem__(self, index):\n",
    "        return self.generate_train_example()\n",
    "\n",
    "    def __len__(self):\n",
    "        return int(1e15)  # inf\n",
    "\n",
    "    \n",
    "class Test_Loader(Dataset):\n",
    "    def __init__(self):\n",
    "        X_test, y_test = self.upload_test_set(PATH_TEST_DATA)\n",
    "        X = []; Y = []\n",
    "        for image_array, string in zip(X_test, y_test):\n",
    "            x = process_picture(image_array)\n",
    "            y = OHE(string, char2ind)\n",
    "            if not len(x) == len(y) == NUMBER_CHARS_PER_IMAGE:\n",
    "                continue\n",
    "            X.append(x)\n",
    "            Y.append(y)\n",
    "        self.X = np.vstack(X)\n",
    "        self.Y = np.vstack(Y)\n",
    "\n",
    "    @staticmethod\n",
    "    def upload_test_set(path):\n",
    "        x_backet = []\n",
    "        y_backet = []\n",
    "        files = os.listdir(path)\n",
    "        print (\"number of test examples is {}\".format(len(files)))\n",
    "        for f in files:\n",
    "            image = Image.open(join(path, f))\n",
    "            x = np.array(image)\n",
    "            y = f.split('.')[0]  # cut '.png'\n",
    "            x_backet.append(x)\n",
    "            y_backet.append(y)\n",
    "        return x_backet, y_backet\n",
    "    \n",
    "    def __getitem__(self, index):\n",
    "        return self.X[index], self.Y[index]\n",
    "\n",
    "    def __len__(self):\n",
    "        return len(self.X)"
   ]
  },
  {
   "cell_type": "markdown",
   "metadata": {},
   "source": [
    "### CNN Network"
   ]
  },
  {
   "cell_type": "code",
   "execution_count": 31,
   "metadata": {},
   "outputs": [],
   "source": [
    "import torch \n",
    "import torch.nn as nn\n",
    "import torchvision.datasets as dsets\n",
    "import torchvision.transforms as transforms\n",
    "from torch.autograd import Variable\n",
    "import torch.nn.functional as F"
   ]
  },
  {
   "cell_type": "markdown",
   "metadata": {},
   "source": [
    "** Awesome Example:** <br>\n",
    "https://github.com/pytorch/examples/blob/master/mnist/main.py"
   ]
  },
  {
   "cell_type": "code",
   "execution_count": 32,
   "metadata": {},
   "outputs": [],
   "source": [
    "# Hyper Parameters\n",
    "batch_size = 100\n",
    "num_steps = 100\n",
    "num_epochs = 5\n",
    "learning_rate = 0.0001"
   ]
  },
  {
   "cell_type": "code",
   "execution_count": 33,
   "metadata": {},
   "outputs": [],
   "source": [
    "import torch.nn as nn\n",
    "import torch.nn.functional as F\n",
    "\n",
    "\n",
    "class CNN(nn.Module):\n",
    "    def __init__(self, num_classes):\n",
    "        super(CNN, self).__init__()\n",
    "\n",
    "        self._num_classes = num_classes\n",
    "        self.layer1 = nn.Sequential(\n",
    "            nn.Conv2d(1, 16, kernel_size=5, padding=2),\n",
    "            nn.BatchNorm2d(16),\n",
    "            nn.ReLU(),\n",
    "            nn.MaxPool2d(2))\n",
    "        self.layer2 = nn.Sequential(\n",
    "            nn.Conv2d(16, 32, kernel_size=5, padding=2),\n",
    "            nn.Dropout2d(p=0.15),\n",
    "            nn.BatchNorm2d(32),\n",
    "            nn.ReLU(),\n",
    "            nn.MaxPool2d(2))\n",
    "        self.fc = nn.Sequential(\n",
    "            nn.Linear(8 * 8 * 32, 120),\n",
    "            nn.Dropout(p=0.15),\n",
    "            nn.Linear(120, self._num_classes))\n",
    "\n",
    "    def forward(self, x):\n",
    "        out = self.layer1(x)\n",
    "        out = self.layer2(out)\n",
    "        out = out.view(out.size(0), -1)\n",
    "        out = self.fc(out)\n",
    "        out = F.log_softmax(out, dim=1)\n",
    "        return out\n",
    "\n",
    "    def count_parameters(self):\n",
    "        return sum(p.numel() for p in self.parameters() if p.requires_grad)"
   ]
  },
  {
   "cell_type": "code",
   "execution_count": 34,
   "metadata": {},
   "outputs": [],
   "source": [
    "from scipy.sparse import coo_matrix\n",
    "import seaborn as sns\n",
    "import pandas as pd\n",
    "\n",
    "def confusion_matrix(y_true, y_pred, num_classes):\n",
    "    row  = y_true\n",
    "    col  = y_pred\n",
    "    data = np.ones_like(col)\n",
    "    CM = coo_matrix((data, (row, col)), shape=(num_classes, num_classes))\n",
    "    return CM.toarray()\n",
    " \n",
    "def plot_conf_matrix(CM, name=\"confuse_matrix_train.png\"):\n",
    "    df_cm = pd.DataFrame(CM, index = [i for i in possible_characters],\n",
    "                  columns = [i for i in possible_characters])\n",
    "    plt.figure(figsize = (14,10))\n",
    "    sns.heatmap(df_cm, annot=True)\n",
    "    plt.xlabel('predicted')\n",
    "    plt.ylabel('actual')\n",
    "    #plt.savefig(name)\n",
    "    plt.show()\n",
    "\n",
    "def train(plot=False):\n",
    "    # Loss and Optimizer\n",
    "    criterion = nn.CrossEntropyLoss()\n",
    "    learning_rate = 0.00001\n",
    "    optimizer = torch.optim.Adam(model.parameters(), lr=learning_rate)\n",
    "    \n",
    "    # Train the Model\n",
    "    model.train()\n",
    "    total_conf_matrix = None\n",
    "    total = correct = 0\n",
    "    \n",
    "    for i, (images, labels) in enumerate(train_loader):\n",
    "        images = Variable(images)\n",
    "        labels = Variable(labels) # OHE\n",
    "        _, labels = labels.max(dim=1)   # to indexes\n",
    "\n",
    "        # Forward + Backward + Optimize\n",
    "        optimizer.zero_grad()\n",
    "        outputs = model(images)\n",
    "        _, predicted = torch.max(outputs.data, 1)\n",
    "        total += labels.size(0)\n",
    "        correct += (predicted == labels.data).sum()\n",
    "\n",
    "        loss = criterion(outputs, labels)\n",
    "        loss.backward()\n",
    "        optimizer.step()\n",
    "\n",
    "        if (i+1) % 100 == 0:\n",
    "            print ('Step [%d/%d], Example [%d/%d] Loss: %.5f Accuracy %0.2f %%' \n",
    "                   %(i+1, num_steps, (i+1)*batch_size, num_steps*batch_size, loss.data[0], 100 * correct / total))\n",
    "            #print('Test Accuracy of the model on the %d test images: %d %%' % (total, 100 * correct / total))\n",
    "            total = 0; correct = 0;\n",
    "        \n",
    "        # at the end of training, start to collect confusion matrix statistic \n",
    "        if i > num_steps*0.9:\n",
    "            if total_conf_matrix is None:\n",
    "                total_conf_matrix = confusion_matrix(labels.data, predicted, NUM_CLASSES)\n",
    "            else:\n",
    "                total_conf_matrix += confusion_matrix(labels.data, predicted, NUM_CLASSES)\n",
    "\n",
    "        if i > num_steps:\n",
    "            if plot:\n",
    "                plot_conf_matrix(total_conf_matrix)\n",
    "            break\n",
    "                \n",
    "def eval_model(plot=False):\n",
    "    correct = total = 0\n",
    "    total_conf_matrix = None\n",
    "    model.eval()\n",
    "    for images, labels in test_loader:\n",
    "        _, labels = labels.max(dim=1)\n",
    "        images = Variable(images)\n",
    "\n",
    "        outputs = model(images)\n",
    "        _, predicted = torch.max(outputs.data, 1)\n",
    "        total += labels.size(0)\n",
    "        correct += (predicted == labels).sum()\n",
    "        \n",
    "        if total_conf_matrix is None:\n",
    "            total_conf_matrix = confusion_matrix(labels, predicted, NUM_CLASSES)\n",
    "        else:\n",
    "            total_conf_matrix += confusion_matrix(labels, predicted, NUM_CLASSES)\n",
    "\n",
    "    print('Test Accuracy of the model on the %d test images: %.2f %%' % (total, 100 * correct / total))\n",
    "    print (\"precision for 5 correct answers: \", (correct / total)**5)\n",
    "    if plot:\n",
    "        plot_conf_matrix(total_conf_matrix)"
   ]
  },
  {
   "cell_type": "code",
   "execution_count": null,
   "metadata": {},
   "outputs": [],
   "source": []
  },
  {
   "cell_type": "code",
   "execution_count": null,
   "metadata": {},
   "outputs": [],
   "source": []
  },
  {
   "cell_type": "code",
   "execution_count": 38,
   "metadata": {},
   "outputs": [
    {
     "name": "stdout",
     "output_type": "stream",
     "text": [
      "number of test examples is 55\n",
      "number of parameters is 263580\n"
     ]
    }
   ],
   "source": [
    "train_loader = DataLoader(dataset=TrainLoader(),\n",
    "                         batch_size=20, shuffle=False, num_workers=4)\n",
    "test_loader = DataLoader(dataset=Test_Loader(),\n",
    "                         batch_size=20, shuffle=False, num_workers=4)\n",
    "model = CNN(num_classes=num_classes)\n",
    "print (\"number of parameters is {}\".format(model.count_parameters()))\n",
    "if torch.cuda.is_available():\n",
    "    model = model.cuda()"
   ]
  },
  {
   "cell_type": "code",
   "execution_count": 36,
   "metadata": {},
   "outputs": [
    {
     "name": "stdout",
     "output_type": "stream",
     "text": [
      "Step [100/100], Example [10000/10000] Loss: 3.48382 Accuracy 5.45 %\n"
     ]
    },
    {
     "data": {
      "image/png": "[encoded data removed]",
      "text/plain": [
       "<matplotlib.figure.Figure at 0x7f1f21b9ec18>"
      ]
     },
     "metadata": {},
     "output_type": "display_data"
    }
   ],
   "source": [
    "train(plot=1)"
   ]
  },
  {
   "cell_type": "code",
   "execution_count": 39,
   "metadata": {},
   "outputs": [
    {
     "name": "stdout",
     "output_type": "stream",
     "text": [
      "Test Accuracy of the model on the 275 test images: 0.00 %\n",
      "precision for 5 correct answers:  0.0\n"
     ]
    },
    {
     "data": {
      "image/png": "[encoded data removed]",
      "text/plain": [
       "<matplotlib.figure.Figure at 0x7f1f21b9ecf8>"
      ]
     },
     "metadata": {},
     "output_type": "display_data"
    }
   ],
   "source": [
    "eval_model(plot=1)"
   ]
  },
  {
   "cell_type": "code",
   "execution_count": 40,
   "metadata": {},
   "outputs": [],
   "source": [
    "# Save the Trained Model\n",
    "torch.save(model.state_dict(), 'models/model.pkl')"
   ]
  },
  {
   "cell_type": "code",
   "execution_count": 41,
   "metadata": {},
   "outputs": [
    {
     "name": "stdout",
     "output_type": "stream",
     "text": [
      "CNN(\n",
      "  (layer1): Sequential(\n",
      "    (0): Conv2d(1, 16, kernel_size=(5, 5), stride=(1, 1), padding=(2, 2))\n",
      "    (1): BatchNorm2d(16, eps=1e-05, momentum=0.1, affine=True)\n",
      "    (2): ReLU()\n",
      "    (3): MaxPool2d(kernel_size=(2, 2), stride=(2, 2), dilation=(1, 1), ceil_mode=False)\n",
      "  )\n",
      "  (layer2): Sequential(\n",
      "    (0): Conv2d(16, 32, kernel_size=(5, 5), stride=(1, 1), padding=(2, 2))\n",
      "    (1): Dropout2d(p=0.15)\n",
      "    (2): BatchNorm2d(32, eps=1e-05, momentum=0.1, affine=True)\n",
      "    (3): ReLU()\n",
      "    (4): MaxPool2d(kernel_size=(2, 2), stride=(2, 2), dilation=(1, 1), ceil_mode=False)\n",
      "  )\n",
      "  (fc): Sequential(\n",
      "    (0): Linear(in_features=2048, out_features=120, bias=True)\n",
      "    (1): Dropout(p=0.15)\n",
      "    (2): Linear(in_features=120, out_features=36, bias=True)\n",
      "  )\n",
      ")\n"
     ]
    }
   ],
   "source": [
    "print (model)"
   ]
  },
  {
   "cell_type": "code",
   "execution_count": null,
   "metadata": {},
   "outputs": [],
   "source": []
  },
  {
   "cell_type": "code",
   "execution_count": 122,
   "metadata": {},
   "outputs": [],
   "source": [
    "import config\n",
    "from models import models\n",
    "import train\n",
    "import torch\n",
    "from torch.autograd import Variable"
   ]
  },
  {
   "cell_type": "code",
   "execution_count": 123,
   "metadata": {},
   "outputs": [],
   "source": [
    "model = models.CNN(num_classes=config.NUM_CLASSES)\n",
    "model.load_state_dict(torch.load(config.model_path))"
   ]
  },
  {
   "cell_type": "code",
   "execution_count": 125,
   "metadata": {},
   "outputs": [
    {
     "name": "stdout",
     "output_type": "stream",
     "text": [
      "number of test examples is 55\n",
      "rxb58\n",
      "rxb58\n"
     ]
    }
   ],
   "source": [
    "X,Y = a.upload_test_set(PATH_TEST_DATA)\n",
    "\n",
    "example = X[15]\n",
    "string = Y[15]\n",
    "print (string)\n",
    "examples = process_picture(example)\n",
    "\n",
    "for el in examples:\n",
    "    el = np.expand_dims(el, axis=0)\n",
    "    tenz = Variable(torch.from_numpy(el))\n",
    "    outputs = model(tenz)\n",
    "    _, predicted = torch.max(outputs.data, 1)\n",
    "    print (ind2char[predicted.numpy()[0]], end = \"\")\n",
    "print()"
   ]
  },
  {
   "cell_type": "code",
   "execution_count": 130,
   "metadata": {},
   "outputs": [],
   "source": [
    "model = models.CNN(num_classes=config.NUM_CLASSES)\n",
    "model.load_state_dict(torch.load(config.model_path))\n",
    "\n",
    "\n",
    "def predict_image(image):\n",
    "    \"\"\"\n",
    "    input: numpy array of shape (45,115,3)   #WHAT ABOUT OTHER SIZE?\n",
    "    outputs: predicted word\n",
    "    \"\"\"\n",
    "    small_images = process_picture(image)\n",
    "    result = []\n",
    "    for img in small_images:\n",
    "        img = np.expand_dims(img, axis=0)\n",
    "        tenz = Variable(torch.from_numpy(img))\n",
    "        outputs = model(tenz)\n",
    "        _, predicted = torch.max(outputs.data, 1)\n",
    "        char = ind2char[predicted.numpy()[0]]\n",
    "        result.append(char)\n",
    "    return \"\".join(result)"
   ]
  },
  {
   "cell_type": "code",
   "execution_count": 132,
   "metadata": {},
   "outputs": [
    {
     "name": "stdout",
     "output_type": "stream",
     "text": [
      "r3dpm r3dpm True\n",
      "ncy28 ncy28 True\n",
      "5mwcf 5mwcf True\n",
      "mn8hb mn8hb True\n",
      "7mcc6 7mcc8 False\n",
      "2bbee 2bbee True\n",
      "a7wmc a7wmc True\n",
      "6p57m 8p57m False\n",
      "7dry2 7dry2 True\n",
      "4a4a7 4a4a7 True\n",
      "xeffw xeffw True\n",
      "xrg7e xrg7e True\n",
      "brprw brprw True\n",
      "g6gfp g8gfp False\n",
      "a482r a482r True\n",
      "rxb58 rxb58 True\n",
      "enny4 enny4 True\n",
      "nw6wb nw8wb False\n",
      "fwf5h fwf5h True\n",
      "ea6p6 ea6p8 False\n",
      "yfhyd yfhyd True\n",
      "64w54 84w54 False\n",
      "bkgnc bkgnc True\n",
      "7dae8 7dae8 True\n",
      "7wkr7 7wkr7 True\n",
      "45rnc 45rnc True\n",
      "aa32d aa32d True\n",
      "fepx5 fepx5 True\n",
      "kd5rm kd5rm True\n",
      "fh7wf fh7wf True\n",
      "a5r3r a5r3r True\n",
      "y6rm7 y8rm7 False\n",
      "xew6g xew8g False\n",
      "8p5wd 8p5wd True\n",
      "nhepp nhepp True\n",
      "48766 48788 False\n",
      "fa84b fa84b True\n",
      "xckka xckka True\n",
      "xm3w4 xm3w4 True\n",
      "xhxcg xhxcg True\n",
      "6r72y 8r72y False\n",
      "nw66n nw88n False\n",
      "gcknm gcknm True\n",
      "dw3dn dw3dn True\n",
      "xew3w xew3w True\n",
      "6hf2x 8hf2x False\n",
      "a8wfw a8wfw True\n",
      "fh8fb fh8fb True\n",
      "7gf22 7gf22 True\n",
      "h2nwn h2nwn True\n",
      "c2xxc c2xxc True\n",
      "p3k4k p3k4k True\n",
      "8yadk 8yadk True\n",
      "8adyp 8adyp True\n",
      "pmmbn pmmbn True\n"
     ]
    }
   ],
   "source": [
    "for img, string in zip(X,Y):\n",
    "    pred = predict_image(img)\n",
    "    print (string, pred, string == pred)"
   ]
  },
  {
   "cell_type": "code",
   "execution_count": null,
   "metadata": {},
   "outputs": [],
   "source": []
  },
  {
   "cell_type": "code",
   "execution_count": null,
   "metadata": {},
   "outputs": [],
   "source": []
  },
  {
   "cell_type": "code",
   "execution_count": null,
   "metadata": {},
   "outputs": [],
   "source": []
  },
  {
   "cell_type": "markdown",
   "metadata": {},
   "source": [
    "### interaction with site"
   ]
  },
  {
   "cell_type": "code",
   "execution_count": 225,
   "metadata": {},
   "outputs": [],
   "source": [
    "link = \"https://restaurantpass.gift-cards.ru/balance\"\n",
    "card_number = \"123456789\""
   ]
  },
  {
   "cell_type": "code",
   "execution_count": 226,
   "metadata": {},
   "outputs": [],
   "source": [
    "from selenium import webdriver\n",
    "from selenium.webdriver.support.ui import Select\n",
    "from selenium.webdriver.common.desired_capabilities import DesiredCapabilities\n",
    "import time\n",
    "import os\n",
    "import sys\n",
    "import datetime\n",
    "import random\n",
    "import logging\n",
    "import yaml\n",
    "import importlib\n",
    "from pyvirtualdisplay import Display\n",
    "\n",
    "\n",
    "def wait(mean):\n",
    "    stddev = mean*0.2\n",
    "    t = random.normalvariate(mean, stddev)\n",
    "    mintime = random.uniform(0.05,0.15)\n",
    "    t = max(t, mintime)\n",
    "    time.sleep(t)\n",
    "\n",
    "\n",
    "def init_phantomjs_driver(user_agent=None):\n",
    "    if not user_agent:\n",
    "        user_agent = \"Mozilla/5.0 (X11; Linux x86_64) AppleWebKit/537.36 \"\\\n",
    "                     \"(KHTML, like Gecko) Chrome/56.0.2924.87 Safari/537.36\"\n",
    "    headers = {\n",
    "              'Accept': 'text/html,application/xhtml+xml,application'\\\n",
    "                       '/xml;q=0.9,image/webp,*/*;q=0.8',\n",
    "              'Accept-Language': 'en-US,en;q=0.8,ru;q=0.6',\n",
    "              'Cache-Control': 'max-age=0',\n",
    "              'Connection': 'keep-alive'\n",
    "               }\n",
    "    for key, value in headers.items():\n",
    "        big_key = 'phantomjs.page.customHeaders.{}'.format(key)\n",
    "        webdriver.DesiredCapabilities.PHANTOMJS[big_key] = value\n",
    "    webdriver.DesiredCapabilities.PHANTOMJS['phantomjs.page.settings.userAgent'] = user_agent\n",
    "    service_args = ['--ignore-ssl-errors=true', '--ssl-protocol=ANY']\n",
    "    driver_start = webdriver.PhantomJS(service_args=service_args)\n",
    "    driver_start.set_window_size(1855, 1056)\n",
    "    #driver_start.maximize_window()\n",
    "    return driver_start\n",
    "\n",
    "\n",
    "def start_chrome(mode=\"Chrome\", user_agent=None):\n",
    "\n",
    "    if mode == \"Chrome\":\n",
    "        options = webdriver.ChromeOptions()\n",
    "        options.add_argument('--start-maximized')\n",
    "        driver_start = webdriver.Chrome(chrome_options=options)\n",
    "\n",
    "    if mode == \"PhantomJS\":\n",
    "        driver_start = init_phantomjs_driver(user_agent=user_agent)\n",
    "\n",
    "    if mode == \"FireFox\":\n",
    "        display = Display(visible=0, size=(1855, 1056))\n",
    "        display.start()\n",
    "        driver_start = webdriver.Firefox()\n",
    "    wait(5)\n",
    "\n",
    "    driver_start.set_page_load_timeout(900)\n",
    "    driver_start.set_script_timeout(900)\n",
    "    print (\"browser {} is launched\".format(mode))\n",
    "    return driver_start"
   ]
  },
  {
   "cell_type": "code",
   "execution_count": 227,
   "metadata": {},
   "outputs": [
    {
     "name": "stdout",
     "output_type": "stream",
     "text": [
      "browser Chrome is launched\n"
     ]
    }
   ],
   "source": [
    "driver_start = start_chrome()"
   ]
  },
  {
   "cell_type": "code",
   "execution_count": 228,
   "metadata": {},
   "outputs": [],
   "source": [
    "driver_start.get(link)"
   ]
  },
  {
   "cell_type": "code",
   "execution_count": 229,
   "metadata": {},
   "outputs": [],
   "source": [
    "# enter card number\n",
    "el = driver_start.find_element_by_css_selector('#ean')\n",
    "el.send_keys(card_number) # create custom send elements"
   ]
  },
  {
   "cell_type": "code",
   "execution_count": 230,
   "metadata": {},
   "outputs": [],
   "source": [
    "# get captcha imge:\n",
    "el = driver_start.find_element_by_css_selector('#checkBalanceForm > div.b-check-balance-form_field-block.b-check-balance-form_field-block__captcha > div.b-check-balance-form_field-wrapper > img')"
   ]
  },
  {
   "cell_type": "code",
   "execution_count": 231,
   "metadata": {},
   "outputs": [],
   "source": [
    "src = el.get_attribute('src')"
   ]
  },
  {
   "cell_type": "code",
   "execution_count": 232,
   "metadata": {},
   "outputs": [
    {
     "data": {
      "text/plain": [
       "'https://restaurantpass.gift-cards.ru/captcha;jsessionid=2EE275628612966E27B6C93C902A0F55?1523798040384'"
      ]
     },
     "execution_count": 232,
     "metadata": {},
     "output_type": "execute_result"
    }
   ],
   "source": [
    "src"
   ]
  },
  {
   "cell_type": "code",
   "execution_count": 233,
   "metadata": {},
   "outputs": [],
   "source": [
    "import urllib.request\n",
    "urllib.request.version = 'Mozilla/5.0 (Windows NT 6.1) AppleWebKit/537.36 (KHTML, like Gecko) Chrome/35.0.1916.153 Safari/537.36 SE 2.X MetaSr 1.0'\n",
    "file_name, _ = urllib.request.urlretrieve(src)\n",
    "image = Image.open(file_name)\n",
    "array = np.asarray(image)"
   ]
  },
  {
   "cell_type": "code",
   "execution_count": 234,
   "metadata": {},
   "outputs": [
    {
     "data": {
      "text/plain": [
       "'f4fp5'"
      ]
     },
     "execution_count": 234,
     "metadata": {},
     "output_type": "execute_result"
    }
   ],
   "source": [
    "pred = predict_image(array)\n",
    "pred"
   ]
  },
  {
   "cell_type": "code",
   "execution_count": 235,
   "metadata": {},
   "outputs": [],
   "source": [
    "# ented code:\n",
    "el = driver_start.find_element_by_css_selector('#captcha')\n",
    "el.send_keys(pred)"
   ]
  },
  {
   "cell_type": "code",
   "execution_count": 236,
   "metadata": {},
   "outputs": [],
   "source": [
    "# click 'check balance'\n",
    "el = driver_start.find_element_by_css_selector(\n",
    "    '#checkBalanceForm > div.b-check-balance-form_footer > button > span')\n",
    "el.click()"
   ]
  },
  {
   "cell_type": "code",
   "execution_count": 237,
   "metadata": {},
   "outputs": [],
   "source": []
  },
  {
   "cell_type": "code",
   "execution_count": 238,
   "metadata": {},
   "outputs": [],
   "source": [
    "from bs4 import BeautifulSoup\n"
   ]
  },
  {
   "cell_type": "code",
   "execution_count": null,
   "metadata": {},
   "outputs": [],
   "source": []
  },
  {
   "cell_type": "code",
   "execution_count": null,
   "metadata": {},
   "outputs": [],
   "source": []
  },
  {
   "cell_type": "code",
   "execution_count": 245,
   "metadata": {},
   "outputs": [],
   "source": [
    "html_source = driver_start.page_source\n",
    "soup = BeautifulSoup(html_source, 'lxml')\n",
    "dashboard_myalphas = soup.find(class_= \"b-customer-info_balance_value ng-binding\")\n",
    "text = dashboard_myalphas.get_text()"
   ]
  },
  {
   "cell_type": "code",
   "execution_count": 246,
   "metadata": {},
   "outputs": [
    {
     "data": {
      "text/plain": [
       "'1 847,15 руб.'"
      ]
     },
     "execution_count": 246,
     "metadata": {},
     "output_type": "execute_result"
    }
   ],
   "source": [
    "text"
   ]
  },
  {
   "cell_type": "code",
   "execution_count": null,
   "metadata": {},
   "outputs": [],
   "source": []
  },
  {
   "cell_type": "code",
   "execution_count": null,
   "metadata": {},
   "outputs": [],
   "source": []
  },
  {
   "cell_type": "code",
   "execution_count": null,
   "metadata": {},
   "outputs": [],
   "source": []
  },
  {
   "cell_type": "code",
   "execution_count": null,
   "metadata": {},
   "outputs": [],
   "source": []
  },
  {
   "cell_type": "code",
   "execution_count": null,
   "metadata": {},
   "outputs": [],
   "source": []
  },
  {
   "cell_type": "code",
   "execution_count": null,
   "metadata": {},
   "outputs": [],
   "source": []
  },
  {
   "cell_type": "code",
   "execution_count": null,
   "metadata": {},
   "outputs": [],
   "source": []
  }
 ],
 "metadata": {
  "kernelspec": {
   "display_name": "Python 3",
   "language": "python",
   "name": "python3"
  },
  "language_info": {
   "codemirror_mode": {
    "name": "ipython",
    "version": 3
   },
   "file_extension": ".py",
   "mimetype": "text/x-python",
   "name": "python",
   "nbconvert_exporter": "python",
   "pygments_lexer": "ipython3",
   "version": "3.6.1"
  }
 },
 "nbformat": 4,
 "nbformat_minor": 2
}
